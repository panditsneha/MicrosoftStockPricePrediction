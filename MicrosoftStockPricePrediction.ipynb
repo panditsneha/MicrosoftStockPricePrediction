{
 "cells": [
  {
   "cell_type": "code",
   "execution_count": 2,
   "id": "8e6a304e",
   "metadata": {},
   "outputs": [],
   "source": [
    "import numpy as np\n",
    "import pandas as pd\n",
    "from matplotlib import pyplot as plt\n",
    "import seaborn as sns"
   ]
  },
  {
   "cell_type": "code",
   "execution_count": 3,
   "id": "d44d5669",
   "metadata": {},
   "outputs": [
    {
     "data": {
      "text/html": [
       "<div>\n",
       "<style scoped>\n",
       "    .dataframe tbody tr th:only-of-type {\n",
       "        vertical-align: middle;\n",
       "    }\n",
       "\n",
       "    .dataframe tbody tr th {\n",
       "        vertical-align: top;\n",
       "    }\n",
       "\n",
       "    .dataframe thead th {\n",
       "        text-align: right;\n",
       "    }\n",
       "</style>\n",
       "<table border=\"1\" class=\"dataframe\">\n",
       "  <thead>\n",
       "    <tr style=\"text-align: right;\">\n",
       "      <th></th>\n",
       "      <th>Date</th>\n",
       "      <th>Open</th>\n",
       "      <th>High</th>\n",
       "      <th>Low</th>\n",
       "      <th>Close</th>\n",
       "      <th>Adj Close</th>\n",
       "      <th>Volume</th>\n",
       "    </tr>\n",
       "  </thead>\n",
       "  <tbody>\n",
       "    <tr>\n",
       "      <th>0</th>\n",
       "      <td>2020-09-18</td>\n",
       "      <td>202.800003</td>\n",
       "      <td>203.649994</td>\n",
       "      <td>196.250000</td>\n",
       "      <td>200.389999</td>\n",
       "      <td>198.567947</td>\n",
       "      <td>55225300</td>\n",
       "    </tr>\n",
       "    <tr>\n",
       "      <th>1</th>\n",
       "      <td>2020-09-21</td>\n",
       "      <td>197.190002</td>\n",
       "      <td>202.710007</td>\n",
       "      <td>196.380005</td>\n",
       "      <td>202.539993</td>\n",
       "      <td>200.698380</td>\n",
       "      <td>39839700</td>\n",
       "    </tr>\n",
       "    <tr>\n",
       "      <th>2</th>\n",
       "      <td>2020-09-22</td>\n",
       "      <td>205.059998</td>\n",
       "      <td>208.100006</td>\n",
       "      <td>202.080002</td>\n",
       "      <td>207.419998</td>\n",
       "      <td>205.534012</td>\n",
       "      <td>33517100</td>\n",
       "    </tr>\n",
       "    <tr>\n",
       "      <th>3</th>\n",
       "      <td>2020-09-23</td>\n",
       "      <td>207.899994</td>\n",
       "      <td>208.100006</td>\n",
       "      <td>200.029999</td>\n",
       "      <td>200.589996</td>\n",
       "      <td>198.766129</td>\n",
       "      <td>30803800</td>\n",
       "    </tr>\n",
       "    <tr>\n",
       "      <th>4</th>\n",
       "      <td>2020-09-24</td>\n",
       "      <td>199.850006</td>\n",
       "      <td>205.570007</td>\n",
       "      <td>199.199997</td>\n",
       "      <td>203.190002</td>\n",
       "      <td>201.342484</td>\n",
       "      <td>31202500</td>\n",
       "    </tr>\n",
       "  </tbody>\n",
       "</table>\n",
       "</div>"
      ],
      "text/plain": [
       "         Date        Open        High         Low       Close   Adj Close  \\\n",
       "0  2020-09-18  202.800003  203.649994  196.250000  200.389999  198.567947   \n",
       "1  2020-09-21  197.190002  202.710007  196.380005  202.539993  200.698380   \n",
       "2  2020-09-22  205.059998  208.100006  202.080002  207.419998  205.534012   \n",
       "3  2020-09-23  207.899994  208.100006  200.029999  200.589996  198.766129   \n",
       "4  2020-09-24  199.850006  205.570007  199.199997  203.190002  201.342484   \n",
       "\n",
       "     Volume  \n",
       "0  55225300  \n",
       "1  39839700  \n",
       "2  33517100  \n",
       "3  30803800  \n",
       "4  31202500  "
      ]
     },
     "execution_count": 3,
     "metadata": {},
     "output_type": "execute_result"
    }
   ],
   "source": [
    "df = pd.read_csv('MSFT.csv')\n",
    "df.head()"
   ]
  },
  {
   "cell_type": "code",
   "execution_count": 15,
   "id": "8227741f",
   "metadata": {},
   "outputs": [
    {
     "data": {
      "text/plain": [
       "(252, 7)"
      ]
     },
     "execution_count": 15,
     "metadata": {},
     "output_type": "execute_result"
    }
   ],
   "source": [
    "df.shape"
   ]
  },
  {
   "cell_type": "code",
   "execution_count": 4,
   "id": "681f99dc",
   "metadata": {},
   "outputs": [
    {
     "data": {
      "image/png": "[encoded data removed]",
      "text/plain": [
       "<Figure size 432x288 with 1 Axes>"
      ]
     },
     "metadata": {
      "needs_background": "light"
     },
     "output_type": "display_data"
    }
   ],
   "source": [
    "# plotting group for the closing price in the dataset\n",
    "plt.plot(df['Close'])\n",
    "plt.show()"
   ]
  },
  {
   "cell_type": "code",
   "execution_count": 5,
   "id": "b2d1cb43",
   "metadata": {},
   "outputs": [
    {
     "data": {
      "text/html": [
       "<div>\n",
       "<style scoped>\n",
       "    .dataframe tbody tr th:only-of-type {\n",
       "        vertical-align: middle;\n",
       "    }\n",
       "\n",
       "    .dataframe tbody tr th {\n",
       "        vertical-align: top;\n",
       "    }\n",
       "\n",
       "    .dataframe thead th {\n",
       "        text-align: right;\n",
       "    }\n",
       "</style>\n",
       "<table border=\"1\" class=\"dataframe\">\n",
       "  <thead>\n",
       "    <tr style=\"text-align: right;\">\n",
       "      <th></th>\n",
       "      <th>Open</th>\n",
       "      <th>High</th>\n",
       "      <th>Low</th>\n",
       "      <th>Close</th>\n",
       "      <th>Adj Close</th>\n",
       "      <th>Volume</th>\n",
       "    </tr>\n",
       "  </thead>\n",
       "  <tbody>\n",
       "    <tr>\n",
       "      <th>Open</th>\n",
       "      <td>1.000000</td>\n",
       "      <td>0.998373</td>\n",
       "      <td>0.998478</td>\n",
       "      <td>0.996253</td>\n",
       "      <td>0.996265</td>\n",
       "      <td>-0.370836</td>\n",
       "    </tr>\n",
       "    <tr>\n",
       "      <th>High</th>\n",
       "      <td>0.998373</td>\n",
       "      <td>1.000000</td>\n",
       "      <td>0.998533</td>\n",
       "      <td>0.998422</td>\n",
       "      <td>0.998404</td>\n",
       "      <td>-0.357275</td>\n",
       "    </tr>\n",
       "    <tr>\n",
       "      <th>Low</th>\n",
       "      <td>0.998478</td>\n",
       "      <td>0.998533</td>\n",
       "      <td>1.000000</td>\n",
       "      <td>0.998534</td>\n",
       "      <td>0.998558</td>\n",
       "      <td>-0.389073</td>\n",
       "    </tr>\n",
       "    <tr>\n",
       "      <th>Close</th>\n",
       "      <td>0.996253</td>\n",
       "      <td>0.998422</td>\n",
       "      <td>0.998534</td>\n",
       "      <td>1.000000</td>\n",
       "      <td>0.999958</td>\n",
       "      <td>-0.377970</td>\n",
       "    </tr>\n",
       "    <tr>\n",
       "      <th>Adj Close</th>\n",
       "      <td>0.996265</td>\n",
       "      <td>0.998404</td>\n",
       "      <td>0.998558</td>\n",
       "      <td>0.999958</td>\n",
       "      <td>1.000000</td>\n",
       "      <td>-0.377925</td>\n",
       "    </tr>\n",
       "    <tr>\n",
       "      <th>Volume</th>\n",
       "      <td>-0.370836</td>\n",
       "      <td>-0.357275</td>\n",
       "      <td>-0.389073</td>\n",
       "      <td>-0.377970</td>\n",
       "      <td>-0.377925</td>\n",
       "      <td>1.000000</td>\n",
       "    </tr>\n",
       "  </tbody>\n",
       "</table>\n",
       "</div>"
      ],
      "text/plain": [
       "               Open      High       Low     Close  Adj Close    Volume\n",
       "Open       1.000000  0.998373  0.998478  0.996253   0.996265 -0.370836\n",
       "High       0.998373  1.000000  0.998533  0.998422   0.998404 -0.357275\n",
       "Low        0.998478  0.998533  1.000000  0.998534   0.998558 -0.389073\n",
       "Close      0.996253  0.998422  0.998534  1.000000   0.999958 -0.377970\n",
       "Adj Close  0.996265  0.998404  0.998558  0.999958   1.000000 -0.377925\n",
       "Volume    -0.370836 -0.357275 -0.389073 -0.377970  -0.377925  1.000000"
      ]
     },
     "execution_count": 5,
     "metadata": {},
     "output_type": "execute_result"
    }
   ],
   "source": [
    "# finding correlation between the features\n",
    "correlation = df.corr()\n",
    "correlation"
   ]
  },
  {
   "cell_type": "code",
   "execution_count": 6,
   "id": "d69ad01d",
   "metadata": {},
   "outputs": [
    {
     "data": {
      "text/plain": [
       "<AxesSubplot:>"
      ]
     },
     "execution_count": 6,
     "metadata": {},
     "output_type": "execute_result"
    },
    {
     "data": {
      "image/png": "[encoded data removed]",
      "text/plain": [
       "<Figure size 432x288 with 2 Axes>"
      ]
     },
     "metadata": {
      "needs_background": "light"
     },
     "output_type": "display_data"
    }
   ],
   "source": [
    "# heatmap for this correlated set\n",
    "sns.heatmap(correlation)"
   ]
  },
  {
   "cell_type": "code",
   "execution_count": 7,
   "id": "16ee0a0c",
   "metadata": {},
   "outputs": [],
   "source": [
    "# training our model\n",
    "\n",
    "from sklearn.model_selection import train_test_split \n",
    "\n",
    "x = df[['Open','Low','High']]\n",
    "y = df[['Close']]\n",
    "\n",
    "x=x.to_numpy()\n",
    "y=y.to_numpy()\n",
    "\n",
    "x_train,x_test,y_train,y_test = train_test_split(x,y,test_size=0.2)"
   ]
  },
  {
   "cell_type": "code",
   "execution_count": 25,
   "id": "dd2e1d16",
   "metadata": {},
   "outputs": [
    {
     "data": {
      "text/plain": [
       "array([281.029999, 214.130005, 202.679993, 252.460007, 277.320007,\n",
       "       207.820007, 234.509995, 233.270004, 246.229996, 251.720001,\n",
       "       214.649994, 224.149994, 234.509995, 249.309998, 200.589996,\n",
       "       277.660004, 252.179993, 284.910004, 214.800003, 219.619995,\n",
       "       286.51001 , 253.589996, 277.320007, 244.199997, 212.419998,\n",
       "       207.820007, 249.729996, 211.080002, 282.51001 , 202.470001,\n",
       "       206.190002, 305.220001, 242.350006, 222.860001, 221.399994,\n",
       "       243.029999, 212.419998, 258.26001 , 304.649994, 265.269989,\n",
       "       232.330002, 215.369995, 258.73999 , 304.649994, 219.619995,\n",
       "       214.460007, 214.289993, 212.419998, 281.029999, 214.460007,\n",
       "       242.009995])"
      ]
     },
     "execution_count": 25,
     "metadata": {},
     "output_type": "execute_result"
    }
   ],
   "source": [
    "from sklearn.tree import DecisionTreeRegressor\n",
    "model = DecisionTreeRegressor()\n",
    "model.fit(x_train,y_train)\n",
    "y_pred = model.predict(x_test)\n",
    "y_pred"
   ]
  },
  {
   "cell_type": "code",
   "execution_count": 28,
   "id": "80b2911f",
   "metadata": {},
   "outputs": [
    {
     "data": {
      "text/html": [
       "<div>\n",
       "<style scoped>\n",
       "    .dataframe tbody tr th:only-of-type {\n",
       "        vertical-align: middle;\n",
       "    }\n",
       "\n",
       "    .dataframe tbody tr th {\n",
       "        vertical-align: top;\n",
       "    }\n",
       "\n",
       "    .dataframe thead th {\n",
       "        text-align: right;\n",
       "    }\n",
       "</style>\n",
       "<table border=\"1\" class=\"dataframe\">\n",
       "  <thead>\n",
       "    <tr style=\"text-align: right;\">\n",
       "      <th></th>\n",
       "      <th>Predicted data</th>\n",
       "      <th>Actual data</th>\n",
       "    </tr>\n",
       "  </thead>\n",
       "  <tbody>\n",
       "    <tr>\n",
       "      <th>0</th>\n",
       "      <td>281.029999</td>\n",
       "      <td>281.399994</td>\n",
       "    </tr>\n",
       "    <tr>\n",
       "      <th>1</th>\n",
       "      <td>214.130005</td>\n",
       "      <td>213.869995</td>\n",
       "    </tr>\n",
       "    <tr>\n",
       "      <th>2</th>\n",
       "      <td>202.679993</td>\n",
       "      <td>209.830002</td>\n",
       "    </tr>\n",
       "    <tr>\n",
       "      <th>3</th>\n",
       "      <td>252.460007</td>\n",
       "      <td>253.250000</td>\n",
       "    </tr>\n",
       "    <tr>\n",
       "      <th>4</th>\n",
       "      <td>277.320007</td>\n",
       "      <td>279.929993</td>\n",
       "    </tr>\n",
       "  </tbody>\n",
       "</table>\n",
       "</div>"
      ],
      "text/plain": [
       "   Predicted data  Actual data\n",
       "0      281.029999   281.399994\n",
       "1      214.130005   213.869995\n",
       "2      202.679993   209.830002\n",
       "3      252.460007   253.250000\n",
       "4      277.320007   279.929993"
      ]
     },
     "execution_count": 28,
     "metadata": {},
     "output_type": "execute_result"
    }
   ],
   "source": [
    "# creating a new data frame to store all the predicted and actual data\n",
    "data = {'Predicted data':y_pred}\n",
    "pred_data = pd.DataFrame(data)\n",
    "pred_data.insert(1, \"Actual data\", y_test, True)\n",
    "pred_data.head()"
   ]
  },
  {
   "cell_type": "code",
   "execution_count": 29,
   "id": "6c2336a3",
   "metadata": {},
   "outputs": [
    {
     "data": {
      "text/plain": [
       "4.608966357325186"
      ]
     },
     "execution_count": 29,
     "metadata": {},
     "output_type": "execute_result"
    }
   ],
   "source": [
    "# finding the error\n",
    "from sklearn.metrics import mean_squared_error\n",
    "mean_squared_error(pred_data['Predicted data'],pred_data['Actual data'])"
   ]
  },
  {
   "cell_type": "code",
   "execution_count": 30,
   "id": "96113657",
   "metadata": {},
   "outputs": [
    {
     "data": {
      "text/plain": [
       "0.9948242282030288"
      ]
     },
     "execution_count": 30,
     "metadata": {},
     "output_type": "execute_result"
    }
   ],
   "source": [
    "# findind the accuracy\n",
    "from sklearn.metrics import r2_score\n",
    "r2_score(pred_data['Predicted data'],pred_data['Actual data'])"
   ]
  }
 ],
 "metadata": {
  "kernelspec": {
   "display_name": "Python 3",
   "language": "python",
   "name": "python3"
  },
  "language_info": {
   "codemirror_mode": {
    "name": "ipython",
    "version": 3
   },
   "file_extension": ".py",
   "mimetype": "text/x-python",
   "name": "python",
   "nbconvert_exporter": "python",
   "pygments_lexer": "ipython3",
   "version": "3.8.8"
  }
 },
 "nbformat": 4,
 "nbformat_minor": 5
}
